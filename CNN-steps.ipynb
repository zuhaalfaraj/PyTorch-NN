{
 "cells": [
  {
   "cell_type": "markdown",
   "metadata": {},
   "source": [
    "# Tracking the size of data through CNN "
   ]
  },
  {
   "cell_type": "markdown",
   "metadata": {},
   "source": [
    "### Here, Im trying to build a Convolutional Neural Network(CNN) step by step, and track the size and no. of channels changes after passing each layer."
   ]
  },
  {
   "cell_type": "code",
   "execution_count": 1,
   "metadata": {},
   "outputs": [],
   "source": [
    "import matplotlib.pyplot as plt\n",
    "\n",
    "import torch\n",
    "from torchvision import datasets, transforms\n",
    "\n",
    "data_dir = 'PetImages'\n",
    "\n",
    "transform = transforms.Compose([transforms.Resize(32),\n",
    "                                transforms.CenterCrop(32),\n",
    "                                transforms.ToTensor()])\n",
    "dataset = datasets.ImageFolder(data_dir, transform=transform)\n",
    "dataloader = torch.utils.data.DataLoader(dataset, batch_size=32, shuffle=True)"
   ]
  },
  {
   "cell_type": "code",
   "execution_count": 2,
   "metadata": {},
   "outputs": [],
   "source": [
    "def imshow(image, ax=None, title=None, normalize=True):\n",
    "    \"\"\"Imshow for Tensor.\"\"\"\n",
    "    if ax is None:\n",
    "        fig, ax = plt.subplots()\n",
    "    image = image.numpy().transpose((1, 2, 0))\n",
    "\n",
    "    if normalize:\n",
    "        mean = np.array([0.485, 0.456, 0.406])\n",
    "        std = np.array([0.229, 0.224, 0.225])\n",
    "        image = std * image + mean\n",
    "        image = np.clip(image, 0, 1)\n",
    "\n",
    "    ax.imshow(image)\n",
    "    ax.spines['top'].set_visible(False)\n",
    "    ax.spines['right'].set_visible(False)\n",
    "    ax.spines['left'].set_visible(False)\n",
    "    ax.spines['bottom'].set_visible(False)\n",
    "    ax.tick_params(axis='both', length=0)\n",
    "    ax.set_xticklabels('')\n",
    "    ax.set_yticklabels('')\n",
    "    \n",
    "    return ax"
   ]
  },
  {
   "cell_type": "code",
   "execution_count": 3,
   "metadata": {},
   "outputs": [],
   "source": [
    "images, labels = next(iter(dataloader))"
   ]
  },
  {
   "cell_type": "code",
   "execution_count": 4,
   "metadata": {},
   "outputs": [
    {
     "data": {
      "text/plain": [
       "<matplotlib.axes._subplots.AxesSubplot at 0x7f3d5f268c88>"
      ]
     },
     "execution_count": 4,
     "metadata": {},
     "output_type": "execute_result"
    },
    {
     "data": {
      "image/png": "[encoded data removed]",
      "text/plain": [
       "<matplotlib.figure.Figure at 0x7f3d5f342898>"
      ]
     },
     "metadata": {},
     "output_type": "display_data"
    }
   ],
   "source": [
    "imshow(images[0], normalize=False)"
   ]
  },
  {
   "cell_type": "code",
   "execution_count": 5,
   "metadata": {},
   "outputs": [
    {
     "name": "stdout",
     "output_type": "stream",
     "text": [
      "Image Size is(batches, num of channels, hight, width): torch.Size([32, 3, 32, 32])\n"
     ]
    }
   ],
   "source": [
    "print('Image Size is(batches, num of channels, hight, width): {}'.format(images.shape))"
   ]
  },
  {
   "cell_type": "markdown",
   "metadata": {},
   "source": [
    "## 1- One Conv. Layer\n",
    "\n",
    "With only one conv. layer, the hight and width of output will be the same, but the number of channels will be changed"
   ]
  },
  {
   "cell_type": "markdown",
   "metadata": {},
   "source": [
    "<img src=\"diagrams/1.png\"\n",
    "     alt=\"Markdown Monster icon\"\n",
    "     style=\"float: left; margin-right: 10px;\" />"
   ]
  },
  {
   "cell_type": "code",
   "execution_count": 6,
   "metadata": {},
   "outputs": [
    {
     "name": "stdout",
     "output_type": "stream",
     "text": [
      "CNN1(\n",
      "  (conv1): Conv2d(3, 16, kernel_size=(3, 3), stride=(1, 1), padding=(1, 1))\n",
      ")\n"
     ]
    }
   ],
   "source": [
    "import torch.nn as nn\n",
    "import torch.nn.functional as F\n",
    "\n",
    "class CNN1(nn.Module):\n",
    "    def __init__(self):\n",
    "        super(CNN1, self).__init__()\n",
    "        # (depth of input, desired output , kernel size)\n",
    "        self.conv1 = nn.Conv2d(3 , 16 , 3, padding=1)\n",
    "    def forward(self, x):\n",
    "        x = F.relu(self.conv1(x))        \n",
    "        return x\n",
    "\n",
    "# initialize the NN\n",
    "model = CNN1()\n",
    "print(model)"
   ]
  },
  {
   "cell_type": "code",
   "execution_count": 7,
   "metadata": {},
   "outputs": [
    {
     "name": "stdout",
     "output_type": "stream",
     "text": [
      "The convolutional output when we have only one conv-layer is(batches, channels, hight, width) : torch.Size([32, 16, 32, 32])\n"
     ]
    }
   ],
   "source": [
    "Output1 = model.forward(images)\n",
    "print('The convolutional output when we have only one conv-layer is(batches, channels, hight, width) : {}'\n",
    "      .format(Output1.shape))"
   ]
  },
  {
   "cell_type": "markdown",
   "metadata": {},
   "source": [
    "## 2- Adding MaxPool\n",
    "\n",
    "Maxpool layer will divide the hight and width by its value \n",
    "\n",
    "so if we have 2x2 maxpool ---> high/2 , width/2\n",
    "\n",
    "3x3 ---> high/3 , width/3,  and so on.."
   ]
  },
  {
   "cell_type": "markdown",
   "metadata": {},
   "source": [
    "<img src=\"diagrams/2.png\"\n",
    "     alt=\"Markdown Monster icon\"\n",
    "     style=\"float: left; margin-right: 10px;\" />"
   ]
  },
  {
   "cell_type": "code",
   "execution_count": 8,
   "metadata": {},
   "outputs": [
    {
     "name": "stdout",
     "output_type": "stream",
     "text": [
      "CNN2(\n",
      "  (conv1): Conv2d(3, 16, kernel_size=(3, 3), stride=(1, 1), padding=(1, 1))\n",
      "  (pool): MaxPool2d(kernel_size=2, stride=2, padding=0, dilation=1, ceil_mode=False)\n",
      ")\n"
     ]
    }
   ],
   "source": [
    "import torch.nn as nn\n",
    "import torch.nn.functional as F\n",
    "\n",
    "class CNN2(nn.Module):\n",
    "    def __init__(self):\n",
    "        super(CNN2, self).__init__()\n",
    "        # (depth of input, desired output , kernel size)\n",
    "        self.conv1 = nn.Conv2d(3 , 16 , 3, padding=1)\n",
    "        self.pool = nn.MaxPool2d(2, 2)\n",
    "        \n",
    "    def forward(self, x):\n",
    "        x = F.relu(self.conv1(x))  \n",
    "        x = self.pool(x)\n",
    "        return x\n",
    "\n",
    "# initialize the NN\n",
    "model2 = CNN2()\n",
    "print(model2)"
   ]
  },
  {
   "cell_type": "code",
   "execution_count": 9,
   "metadata": {},
   "outputs": [
    {
     "name": "stdout",
     "output_type": "stream",
     "text": [
      "The convolutional output after adding maxpool(batches, channels, hight, width) : torch.Size([32, 16, 16, 16])\n"
     ]
    }
   ],
   "source": [
    "Output2 = model2.forward(images)\n",
    "print('The convolutional output after adding maxpool(batches, channels, hight, width) : {}'\n",
    "      .format(Output2.shape))"
   ]
  },
  {
   "cell_type": "markdown",
   "metadata": {},
   "source": [
    "## 3- Adding another conv-layer + maxpool"
   ]
  },
  {
   "cell_type": "markdown",
   "metadata": {},
   "source": [
    "<img src=\"diagrams/3.png\"\n",
    "     alt=\"Markdown Monster icon\"\n",
    "     style=\"float: left; margin-right: 10px;\" />"
   ]
  },
  {
   "cell_type": "code",
   "execution_count": 10,
   "metadata": {},
   "outputs": [
    {
     "name": "stdout",
     "output_type": "stream",
     "text": [
      "CNN3(\n",
      "  (conv1): Conv2d(3, 16, kernel_size=(3, 3), stride=(1, 1), padding=(1, 1))\n",
      "  (conv2): Conv2d(16, 32, kernel_size=(3, 3), stride=(1, 1), padding=(1, 1))\n",
      "  (pool): MaxPool2d(kernel_size=2, stride=2, padding=0, dilation=1, ceil_mode=False)\n",
      ")\n"
     ]
    }
   ],
   "source": [
    "import torch.nn as nn\n",
    "import torch.nn.functional as F\n",
    "\n",
    "class CNN3(nn.Module):\n",
    "    def __init__(self):\n",
    "        super(CNN3, self).__init__()\n",
    "        #(depth of input, desired output , kernel size)\n",
    "        self.conv1 = nn.Conv2d(3 , 16 , 3, padding=1)\n",
    "        self.conv2 = nn.Conv2d(16 , 32 , 3, padding=1)\n",
    "        self.pool = nn.MaxPool2d(2, 2)\n",
    "        \n",
    "    def forward(self, x):\n",
    "        x = F.relu(self.conv1(x))  \n",
    "        x = self.pool(x)\n",
    "        x = F.relu(self.conv2(x))  \n",
    "        x = self.pool(x)\n",
    "        return x\n",
    "\n",
    "# initialize the NN\n",
    "model3 = CNN3()\n",
    "print(model3)"
   ]
  },
  {
   "cell_type": "code",
   "execution_count": 11,
   "metadata": {},
   "outputs": [
    {
     "name": "stdout",
     "output_type": "stream",
     "text": [
      "The convolutional output with two conv-layers and maxpools(batches, channels, hight, width) : torch.Size([32, 32, 8, 8])\n"
     ]
    }
   ],
   "source": [
    "Output3 = model3.forward(images)\n",
    "print('The convolutional output with two conv-layers and maxpools(batches, channels, hight, width) : {}'\n",
    "      .format(Output3.shape))"
   ]
  },
  {
   "cell_type": "markdown",
   "metadata": {},
   "source": [
    "## 4- Adding a third Conv. Layer + Maxpool"
   ]
  },
  {
   "cell_type": "markdown",
   "metadata": {},
   "source": [
    "<img src=\"diagrams/4.png\"\n",
    "     alt=\"Markdown Monster icon\"\n",
    "     style=\"float: left; margin-right: 10px;\" />"
   ]
  },
  {
   "cell_type": "code",
   "execution_count": 12,
   "metadata": {},
   "outputs": [
    {
     "name": "stdout",
     "output_type": "stream",
     "text": [
      "CNN4(\n",
      "  (conv1): Conv2d(3, 16, kernel_size=(3, 3), stride=(1, 1), padding=(1, 1))\n",
      "  (conv2): Conv2d(16, 32, kernel_size=(3, 3), stride=(1, 1), padding=(1, 1))\n",
      "  (conv3): Conv2d(32, 64, kernel_size=(3, 3), stride=(1, 1), padding=(1, 1))\n",
      "  (pool): MaxPool2d(kernel_size=2, stride=2, padding=0, dilation=1, ceil_mode=False)\n",
      ")\n"
     ]
    }
   ],
   "source": [
    "import torch.nn as nn\n",
    "import torch.nn.functional as F\n",
    "\n",
    "class CNN4(nn.Module):\n",
    "    def __init__(self):\n",
    "        super(CNN4, self).__init__()\n",
    "        #(depth of input, desired output , kernel size)\n",
    "        self.conv1 = nn.Conv2d(3 , 16 , 3, padding=1)\n",
    "        self.conv2 = nn.Conv2d(16 , 32 , 3, padding=1)\n",
    "        self.conv3 = nn.Conv2d(32 , 64 , 3, padding=1)\n",
    "\n",
    "        self.pool = nn.MaxPool2d(2, 2)        \n",
    "    def forward(self, x):\n",
    "        x = F.relu(self.conv1(x))  \n",
    "        x = self.pool(x)\n",
    "        x = F.relu(self.conv2(x))  \n",
    "        x = self.pool(x)\n",
    "        x = F.relu(self.conv3(x))  \n",
    "        x = self.pool(x)\n",
    "\n",
    "        \n",
    "        return x\n",
    "\n",
    "# initialize the NN\n",
    "model4 = CNN4()\n",
    "print(model4)"
   ]
  },
  {
   "cell_type": "code",
   "execution_count": 13,
   "metadata": {},
   "outputs": [
    {
     "name": "stdout",
     "output_type": "stream",
     "text": [
      "The convolutional output after adding third layer(batches, channels, hight, width) : torch.Size([32, 64, 4, 4])\n"
     ]
    }
   ],
   "source": [
    "Output4= model4.forward(images)\n",
    "print('The convolutional output after adding third layer(batches, channels, hight, width) : {}'\n",
    "      .format(Output4.shape))"
   ]
  },
  {
   "cell_type": "markdown",
   "metadata": {},
   "source": [
    "## 5- Adding a Fully-connected Layer"
   ]
  },
  {
   "cell_type": "markdown",
   "metadata": {},
   "source": [
    "<img src=\"diagrams/5.png\"\n",
    "     alt=\"Markdown Monster icon\"\n",
    "     style=\"float: left; margin-right: 10px;\" />"
   ]
  },
  {
   "cell_type": "code",
   "execution_count": 14,
   "metadata": {},
   "outputs": [
    {
     "name": "stdout",
     "output_type": "stream",
     "text": [
      "CNN5(\n",
      "  (conv1): Conv2d(3, 16, kernel_size=(3, 3), stride=(1, 1), padding=(1, 1))\n",
      "  (conv2): Conv2d(16, 32, kernel_size=(3, 3), stride=(1, 1), padding=(1, 1))\n",
      "  (conv3): Conv2d(32, 64, kernel_size=(3, 3), stride=(1, 1), padding=(1, 1))\n",
      "  (fc1): Linear(in_features=1024, out_features=500, bias=True)\n",
      "  (pool): MaxPool2d(kernel_size=2, stride=2, padding=0, dilation=1, ceil_mode=False)\n",
      ")\n"
     ]
    }
   ],
   "source": [
    "import torch.nn as nn\n",
    "import torch.nn.functional as F\n",
    "\n",
    "class CNN5(nn.Module):\n",
    "    def __init__(self):\n",
    "        super(CNN5, self).__init__()\n",
    "        #(depth of input, desired output , kernel size)\n",
    "        self.conv1 = nn.Conv2d(3 , 16 , 3, padding=1)\n",
    "        self.conv2 = nn.Conv2d(16 , 32 , 3, padding=1)\n",
    "        self.conv3 = nn.Conv2d(32 , 64 , 3, padding=1)\n",
    "        \n",
    "        self.fc1 = nn.Linear(4*4*64, 500)\n",
    "\n",
    "        self.pool = nn.MaxPool2d(2, 2)        \n",
    "    def forward(self, x):\n",
    "        x = F.relu(self.conv1(x))  \n",
    "        x = self.pool(x)\n",
    "        x = F.relu(self.conv2(x))  \n",
    "        x = self.pool(x)\n",
    "        x = F.relu(self.conv3(x))  \n",
    "        x = self.pool(x)\n",
    "        x = x.view(-1, 64 * 4 * 4)\n",
    "\n",
    "        x= self.fc1(x)\n",
    "\n",
    "        \n",
    "        return x\n",
    "\n",
    "# initialize the NN\n",
    "model5 = CNN5()\n",
    "print(model5)"
   ]
  },
  {
   "cell_type": "markdown",
   "metadata": {},
   "source": [
    "#### After adding a fully connected layer, the information of all previous layers are dedicated on one 1D layer."
   ]
  },
  {
   "cell_type": "code",
   "execution_count": 15,
   "metadata": {},
   "outputs": [
    {
     "name": "stdout",
     "output_type": "stream",
     "text": [
      "The convolutional output after adding fully connected layer(batches, width) : torch.Size([32, 500])\n"
     ]
    }
   ],
   "source": [
    "Output5= model5.forward(images)\n",
    "print('The convolutional output after adding fully connected layer(batches, width) : {}'\n",
    "      .format(Output5.shape))"
   ]
  },
  {
   "cell_type": "markdown",
   "metadata": {},
   "source": [
    "## 6- Adding an Output Layer"
   ]
  },
  {
   "cell_type": "markdown",
   "metadata": {},
   "source": [
    "<img src=\"diagrams/6.png\"\n",
    "     alt=\"Markdown Monster icon\"\n",
    "     style=\"float: left; margin-right: 10px;\" />"
   ]
  },
  {
   "cell_type": "code",
   "execution_count": 16,
   "metadata": {},
   "outputs": [
    {
     "name": "stdout",
     "output_type": "stream",
     "text": [
      "CNN6(\n",
      "  (conv1): Conv2d(3, 16, kernel_size=(3, 3), stride=(1, 1), padding=(1, 1))\n",
      "  (conv2): Conv2d(16, 32, kernel_size=(3, 3), stride=(1, 1), padding=(1, 1))\n",
      "  (conv3): Conv2d(32, 64, kernel_size=(3, 3), stride=(1, 1), padding=(1, 1))\n",
      "  (fc1): Linear(in_features=1024, out_features=500, bias=True)\n",
      "  (output): Linear(in_features=500, out_features=2, bias=True)\n",
      "  (pool): MaxPool2d(kernel_size=2, stride=2, padding=0, dilation=1, ceil_mode=False)\n",
      ")\n"
     ]
    }
   ],
   "source": [
    "import torch.nn as nn\n",
    "import torch.nn.functional as F\n",
    "\n",
    "class CNN6(nn.Module):\n",
    "    def __init__(self):\n",
    "        super(CNN6, self).__init__()\n",
    "        #(depth of input, desired output , kernel size)\n",
    "        self.conv1 = nn.Conv2d(3 , 16 , 3, padding=1)\n",
    "        self.conv2 = nn.Conv2d(16 , 32 , 3, padding=1)\n",
    "        self.conv3 = nn.Conv2d(32 , 64 , 3, padding=1)\n",
    "        \n",
    "        self.fc1 = nn.Linear(4*4*64, 500)\n",
    "        \n",
    "        self.output = nn.Linear(500, 2)\n",
    "\n",
    "\n",
    "        self.pool = nn.MaxPool2d(2, 2)        \n",
    "    def forward(self, x):\n",
    "        x = F.relu(self.conv1(x))  \n",
    "        x = self.pool(x)\n",
    "        x = F.relu(self.conv2(x))  \n",
    "        x = self.pool(x)\n",
    "        x = F.relu(self.conv3(x))  \n",
    "        x = self.pool(x)\n",
    "        x = x.view(-1, 64 * 4 * 4)\n",
    "        x= F.relu(self.fc1(x))\n",
    "        x =self.output(x)\n",
    "\n",
    "        \n",
    "        return x\n",
    "\n",
    "# initialize the NN\n",
    "model6 = CNN6()\n",
    "print(model6)"
   ]
  },
  {
   "cell_type": "code",
   "execution_count": 17,
   "metadata": {},
   "outputs": [
    {
     "name": "stdout",
     "output_type": "stream",
     "text": [
      "The convolutional output after adding fully connected layer(batches, width) : torch.Size([32, 2])\n"
     ]
    }
   ],
   "source": [
    "Output6= model6.forward(images)\n",
    "print('The convolutional output after adding fully connected layer(batches, width) : {}'\n",
    "      .format(Output6.shape))"
   ]
  }
 ],
 "metadata": {
  "kernelspec": {
   "display_name": "Python 3",
   "language": "python",
   "name": "python3"
  },
  "language_info": {
   "codemirror_mode": {
    "name": "ipython",
    "version": 3
   },
   "file_extension": ".py",
   "mimetype": "text/x-python",
   "name": "python",
   "nbconvert_exporter": "python",
   "pygments_lexer": "ipython3",
   "version": "3.6.4"
  }
 },
 "nbformat": 4,
 "nbformat_minor": 2
}
